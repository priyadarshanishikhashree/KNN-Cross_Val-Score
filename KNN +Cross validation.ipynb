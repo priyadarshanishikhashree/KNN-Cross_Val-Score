{
 "cells": [
  {
   "cell_type": "code",
   "execution_count": 16,
   "id": "7d5e869d",
   "metadata": {
    "ExecuteTime": {
     "end_time": "2023-03-26T16:07:11.961220Z",
     "start_time": "2023-03-26T16:07:11.953688Z"
    }
   },
   "outputs": [],
   "source": [
    "import pandas as pd \n",
    "import numpy as np\n",
    "import seaborn as sns\n",
    "from sklearn.neighbors import KNeighborsClassifier\n",
    "from sklearn import preprocessing\n",
    "dataset=sns.load_dataset('iris')\n",
    "import matplotlib.pyplot as plt\n",
    "from sklearn.model_selection import train_test_split\n",
    "from collections import Counter\n",
    "from sklearn.metrics import accuracy_score\n",
    "from sklearn.model_selection import cross_val_score\n"
   ]
  },
  {
   "cell_type": "code",
   "execution_count": 17,
   "id": "108d10ea",
   "metadata": {
    "ExecuteTime": {
     "end_time": "2023-03-26T16:07:15.574176Z",
     "start_time": "2023-03-26T16:07:15.542981Z"
    }
   },
   "outputs": [
    {
     "data": {
      "text/html": [
       "<div>\n",
       "<style scoped>\n",
       "    .dataframe tbody tr th:only-of-type {\n",
       "        vertical-align: middle;\n",
       "    }\n",
       "\n",
       "    .dataframe tbody tr th {\n",
       "        vertical-align: top;\n",
       "    }\n",
       "\n",
       "    .dataframe thead th {\n",
       "        text-align: right;\n",
       "    }\n",
       "</style>\n",
       "<table border=\"1\" class=\"dataframe\">\n",
       "  <thead>\n",
       "    <tr style=\"text-align: right;\">\n",
       "      <th></th>\n",
       "      <th>sepal_length</th>\n",
       "      <th>sepal_width</th>\n",
       "      <th>petal_length</th>\n",
       "      <th>petal_width</th>\n",
       "      <th>species</th>\n",
       "    </tr>\n",
       "  </thead>\n",
       "  <tbody>\n",
       "    <tr>\n",
       "      <th>0</th>\n",
       "      <td>5.1</td>\n",
       "      <td>3.5</td>\n",
       "      <td>1.4</td>\n",
       "      <td>0.2</td>\n",
       "      <td>setosa</td>\n",
       "    </tr>\n",
       "    <tr>\n",
       "      <th>1</th>\n",
       "      <td>4.9</td>\n",
       "      <td>3.0</td>\n",
       "      <td>1.4</td>\n",
       "      <td>0.2</td>\n",
       "      <td>setosa</td>\n",
       "    </tr>\n",
       "    <tr>\n",
       "      <th>2</th>\n",
       "      <td>4.7</td>\n",
       "      <td>3.2</td>\n",
       "      <td>1.3</td>\n",
       "      <td>0.2</td>\n",
       "      <td>setosa</td>\n",
       "    </tr>\n",
       "    <tr>\n",
       "      <th>3</th>\n",
       "      <td>4.6</td>\n",
       "      <td>3.1</td>\n",
       "      <td>1.5</td>\n",
       "      <td>0.2</td>\n",
       "      <td>setosa</td>\n",
       "    </tr>\n",
       "    <tr>\n",
       "      <th>4</th>\n",
       "      <td>5.0</td>\n",
       "      <td>3.6</td>\n",
       "      <td>1.4</td>\n",
       "      <td>0.2</td>\n",
       "      <td>setosa</td>\n",
       "    </tr>\n",
       "    <tr>\n",
       "      <th>...</th>\n",
       "      <td>...</td>\n",
       "      <td>...</td>\n",
       "      <td>...</td>\n",
       "      <td>...</td>\n",
       "      <td>...</td>\n",
       "    </tr>\n",
       "    <tr>\n",
       "      <th>145</th>\n",
       "      <td>6.7</td>\n",
       "      <td>3.0</td>\n",
       "      <td>5.2</td>\n",
       "      <td>2.3</td>\n",
       "      <td>virginica</td>\n",
       "    </tr>\n",
       "    <tr>\n",
       "      <th>146</th>\n",
       "      <td>6.3</td>\n",
       "      <td>2.5</td>\n",
       "      <td>5.0</td>\n",
       "      <td>1.9</td>\n",
       "      <td>virginica</td>\n",
       "    </tr>\n",
       "    <tr>\n",
       "      <th>147</th>\n",
       "      <td>6.5</td>\n",
       "      <td>3.0</td>\n",
       "      <td>5.2</td>\n",
       "      <td>2.0</td>\n",
       "      <td>virginica</td>\n",
       "    </tr>\n",
       "    <tr>\n",
       "      <th>148</th>\n",
       "      <td>6.2</td>\n",
       "      <td>3.4</td>\n",
       "      <td>5.4</td>\n",
       "      <td>2.3</td>\n",
       "      <td>virginica</td>\n",
       "    </tr>\n",
       "    <tr>\n",
       "      <th>149</th>\n",
       "      <td>5.9</td>\n",
       "      <td>3.0</td>\n",
       "      <td>5.1</td>\n",
       "      <td>1.8</td>\n",
       "      <td>virginica</td>\n",
       "    </tr>\n",
       "  </tbody>\n",
       "</table>\n",
       "<p>150 rows × 5 columns</p>\n",
       "</div>"
      ],
      "text/plain": [
       "     sepal_length  sepal_width  petal_length  petal_width    species\n",
       "0             5.1          3.5           1.4          0.2     setosa\n",
       "1             4.9          3.0           1.4          0.2     setosa\n",
       "2             4.7          3.2           1.3          0.2     setosa\n",
       "3             4.6          3.1           1.5          0.2     setosa\n",
       "4             5.0          3.6           1.4          0.2     setosa\n",
       "..            ...          ...           ...          ...        ...\n",
       "145           6.7          3.0           5.2          2.3  virginica\n",
       "146           6.3          2.5           5.0          1.9  virginica\n",
       "147           6.5          3.0           5.2          2.0  virginica\n",
       "148           6.2          3.4           5.4          2.3  virginica\n",
       "149           5.9          3.0           5.1          1.8  virginica\n",
       "\n",
       "[150 rows x 5 columns]"
      ]
     },
     "execution_count": 17,
     "metadata": {},
     "output_type": "execute_result"
    }
   ],
   "source": [
    "dataset"
   ]
  },
  {
   "cell_type": "code",
   "execution_count": 18,
   "id": "4d0aa936",
   "metadata": {
    "ExecuteTime": {
     "end_time": "2023-03-26T16:07:16.227627Z",
     "start_time": "2023-03-26T16:07:16.210052Z"
    }
   },
   "outputs": [],
   "source": [
    "X=dataset.iloc[:,0:4]\n",
    "Y=dataset.iloc[:,-1]"
   ]
  },
  {
   "cell_type": "code",
   "execution_count": 19,
   "id": "b95c8449",
   "metadata": {
    "ExecuteTime": {
     "end_time": "2023-03-26T16:07:16.794846Z",
     "start_time": "2023-03-26T16:07:16.780391Z"
    }
   },
   "outputs": [
    {
     "name": "stdout",
     "output_type": "stream",
     "text": [
      "['setosa']\n"
     ]
    },
    {
     "name": "stderr",
     "output_type": "stream",
     "text": [
      "C:\\Users\\shikh\\anaconda3\\New folder\\New folder\\lib\\site-packages\\sklearn\\base.py:450: UserWarning: X does not have valid feature names, but KNeighborsClassifier was fitted with feature names\n",
      "  warnings.warn(\n"
     ]
    }
   ],
   "source": [
    "label_encoder=preprocessing.LabelEncoder()\n",
    "dataset['species']=label_encoder.fit_transform(dataset['species'])\n",
    "\n",
    "neigh=KNeighborsClassifier(n_neighbors=3)\n",
    "neigh.fit(X,Y)\n",
    "# KNeighborsClassifier\n",
    "print(neigh.predict([[4.9,3.0,1.4,0.2]]))"
   ]
  },
  {
   "cell_type": "code",
   "execution_count": 20,
   "id": "dc439ca2",
   "metadata": {
    "ExecuteTime": {
     "end_time": "2023-03-26T16:08:39.083762Z",
     "start_time": "2023-03-26T16:08:39.069846Z"
    }
   },
   "outputs": [],
   "source": [
    "X_train, X_test,Y_train, Y_test= train_test_split(X,Y,test_size=0.25,random_state=15)"
   ]
  },
  {
   "cell_type": "code",
   "execution_count": 21,
   "id": "f8755bd9",
   "metadata": {
    "ExecuteTime": {
     "end_time": "2023-03-26T16:08:44.624389Z",
     "start_time": "2023-03-26T16:08:44.592198Z"
    }
   },
   "outputs": [
    {
     "data": {
      "text/html": [
       "<div>\n",
       "<style scoped>\n",
       "    .dataframe tbody tr th:only-of-type {\n",
       "        vertical-align: middle;\n",
       "    }\n",
       "\n",
       "    .dataframe tbody tr th {\n",
       "        vertical-align: top;\n",
       "    }\n",
       "\n",
       "    .dataframe thead th {\n",
       "        text-align: right;\n",
       "    }\n",
       "</style>\n",
       "<table border=\"1\" class=\"dataframe\">\n",
       "  <thead>\n",
       "    <tr style=\"text-align: right;\">\n",
       "      <th></th>\n",
       "      <th>sepal_length</th>\n",
       "      <th>sepal_width</th>\n",
       "      <th>petal_length</th>\n",
       "      <th>petal_width</th>\n",
       "    </tr>\n",
       "  </thead>\n",
       "  <tbody>\n",
       "    <tr>\n",
       "      <th>21</th>\n",
       "      <td>5.1</td>\n",
       "      <td>3.7</td>\n",
       "      <td>1.5</td>\n",
       "      <td>0.4</td>\n",
       "    </tr>\n",
       "    <tr>\n",
       "      <th>58</th>\n",
       "      <td>6.6</td>\n",
       "      <td>2.9</td>\n",
       "      <td>4.6</td>\n",
       "      <td>1.3</td>\n",
       "    </tr>\n",
       "    <tr>\n",
       "      <th>130</th>\n",
       "      <td>7.4</td>\n",
       "      <td>2.8</td>\n",
       "      <td>6.1</td>\n",
       "      <td>1.9</td>\n",
       "    </tr>\n",
       "    <tr>\n",
       "      <th>13</th>\n",
       "      <td>4.3</td>\n",
       "      <td>3.0</td>\n",
       "      <td>1.1</td>\n",
       "      <td>0.1</td>\n",
       "    </tr>\n",
       "    <tr>\n",
       "      <th>11</th>\n",
       "      <td>4.8</td>\n",
       "      <td>3.4</td>\n",
       "      <td>1.6</td>\n",
       "      <td>0.2</td>\n",
       "    </tr>\n",
       "    <tr>\n",
       "      <th>...</th>\n",
       "      <td>...</td>\n",
       "      <td>...</td>\n",
       "      <td>...</td>\n",
       "      <td>...</td>\n",
       "    </tr>\n",
       "    <tr>\n",
       "      <th>85</th>\n",
       "      <td>6.0</td>\n",
       "      <td>3.4</td>\n",
       "      <td>4.5</td>\n",
       "      <td>1.6</td>\n",
       "    </tr>\n",
       "    <tr>\n",
       "      <th>128</th>\n",
       "      <td>6.4</td>\n",
       "      <td>2.8</td>\n",
       "      <td>5.6</td>\n",
       "      <td>2.1</td>\n",
       "    </tr>\n",
       "    <tr>\n",
       "      <th>119</th>\n",
       "      <td>6.0</td>\n",
       "      <td>2.2</td>\n",
       "      <td>5.0</td>\n",
       "      <td>1.5</td>\n",
       "    </tr>\n",
       "    <tr>\n",
       "      <th>133</th>\n",
       "      <td>6.3</td>\n",
       "      <td>2.8</td>\n",
       "      <td>5.1</td>\n",
       "      <td>1.5</td>\n",
       "    </tr>\n",
       "    <tr>\n",
       "      <th>140</th>\n",
       "      <td>6.7</td>\n",
       "      <td>3.1</td>\n",
       "      <td>5.6</td>\n",
       "      <td>2.4</td>\n",
       "    </tr>\n",
       "  </tbody>\n",
       "</table>\n",
       "<p>112 rows × 4 columns</p>\n",
       "</div>"
      ],
      "text/plain": [
       "     sepal_length  sepal_width  petal_length  petal_width\n",
       "21            5.1          3.7           1.5          0.4\n",
       "58            6.6          2.9           4.6          1.3\n",
       "130           7.4          2.8           6.1          1.9\n",
       "13            4.3          3.0           1.1          0.1\n",
       "11            4.8          3.4           1.6          0.2\n",
       "..            ...          ...           ...          ...\n",
       "85            6.0          3.4           4.5          1.6\n",
       "128           6.4          2.8           5.6          2.1\n",
       "119           6.0          2.2           5.0          1.5\n",
       "133           6.3          2.8           5.1          1.5\n",
       "140           6.7          3.1           5.6          2.4\n",
       "\n",
       "[112 rows x 4 columns]"
      ]
     },
     "execution_count": 21,
     "metadata": {},
     "output_type": "execute_result"
    }
   ],
   "source": [
    "X_train"
   ]
  },
  {
   "cell_type": "code",
   "execution_count": 25,
   "id": "fe545191",
   "metadata": {
    "ExecuteTime": {
     "end_time": "2023-03-26T16:16:24.313628Z",
     "start_time": "2023-03-26T16:16:24.235021Z"
    }
   },
   "outputs": [
    {
     "name": "stdout",
     "output_type": "stream",
     "text": [
      "\n",
      " accuracy for k =%d is %d  (1, 97.36842105263158)\n",
      "\n",
      " accuracy for k =%d is %d  (3, 97.36842105263158)\n",
      "\n",
      " accuracy for k =%d is %d  (5, 97.36842105263158)\n",
      "\n",
      " accuracy for k =%d is %d  (7, 97.36842105263158)\n",
      "\n",
      " accuracy for k =%d is %d  (9, 100.0)\n",
      "\n",
      " accuracy for k =%d is %d  (11, 100.0)\n",
      "\n",
      " accuracy for k =%d is %d  (13, 100.0)\n",
      "\n",
      " accuracy for k =%d is %d  (15, 100.0)\n",
      "\n",
      " accuracy for k =%d is %d  (17, 100.0)\n",
      "\n",
      " accuracy for k =%d is %d  (19, 100.0)\n",
      "\n",
      " accuracy for k =%d is %d  (21, 100.0)\n",
      "\n",
      " accuracy for k =%d is %d  (23, 97.36842105263158)\n",
      "\n",
      " accuracy for k =%d is %d  (25, 100.0)\n",
      "\n",
      " accuracy for k =%d is %d  (27, 97.36842105263158)\n",
      "\n",
      " accuracy for k =%d is %d  (29, 97.36842105263158)\n"
     ]
    }
   ],
   "source": [
    "for i in range(1,30,2):\n",
    "    knn=KNeighborsClassifier(n_neighbors=i)\n",
    "    knn.fit(X_train,Y_train)\n",
    "    Y_pred=knn.predict(X_test)\n",
    "    acc=accuracy_score(Y_test, Y_pred , normalize=True)*float(100)\n",
    "    print('\\n accuracy for k =%d is %d ',(i,acc))\n",
    "    # Accuracy will increase as value of k increases till some threshold value and after that there is sudden drop in accuracy."
   ]
  },
  {
   "cell_type": "markdown",
   "id": "2f5645c1",
   "metadata": {},
   "source": [
    "# Finding the optimal value of K where accuracy is high"
   ]
  },
  {
   "cell_type": "code",
   "execution_count": 29,
   "id": "da618840",
   "metadata": {
    "ExecuteTime": {
     "end_time": "2023-03-27T10:33:15.747063Z",
     "start_time": "2023-03-27T10:33:14.600530Z"
    }
   },
   "outputs": [
    {
     "name": "stdout",
     "output_type": "stream",
     "text": [
      "The optimal neighbors is 11\n"
     ]
    },
    {
     "data": {
      "image/png": "[encoded data removed]",
      "text/plain": [
       "<Figure size 432x288 with 1 Axes>"
      ]
     },
     "metadata": {
      "needs_background": "light"
     },
     "output_type": "display_data"
    }
   ],
   "source": [
    "mylist =list(range(0,50))\n",
    "neighbors=list(filter(lambda x:x%2!=0, mylist))\n",
    "cv_scores=[]\n",
    "for k in neighbors:\n",
    "    knn= KNeighborsClassifier(n_neighbors=k)\n",
    "    scores=cross_val_score(knn,X_train,Y_train,cv=10,scoring='accuracy')\n",
    "    cv_scores.append(scores.mean())\n",
    "mse=[1-x for x in cv_scores]\n",
    "optimal_k=neighbors[mse.index(min(mse))]\n",
    "print('The optimal neighbors is', optimal_k)\n",
    "plt.plot(neighbors,mse)\n",
    "for xyy in zip(neighbors,mse):\n",
    "    plt.annotate(xy=xyy,text='data')\n",
    "    plt.xlabel('number of neighbours k')\n"
   ]
  },
  {
   "cell_type": "markdown",
   "id": "25a72c27",
   "metadata": {},
   "source": [
    "# Finding accuracy for optimal value of k "
   ]
  },
  {
   "cell_type": "code",
   "execution_count": 35,
   "id": "d0938023",
   "metadata": {
    "ExecuteTime": {
     "end_time": "2023-03-27T10:40:17.068501Z",
     "start_time": "2023-03-27T10:40:17.038161Z"
    }
   },
   "outputs": [
    {
     "name": "stdout",
     "output_type": "stream",
     "text": [
      "accuracy of knn classifier for k={%d} is{ %f} 11 100.0\n"
     ]
    }
   ],
   "source": [
    "knn_optimal=KNeighborsClassifier(n_neighbors=optimal_k)\n",
    "knn_optimal.fit(X_train,Y_train)\n",
    "pred=knn_optimal.predict(X_test)\n",
    "acc=accuracy_score(Y_test,pred)*100\n",
    "print('accuracy of knn classifier for k={%d} is{ %f}',optimal_k,acc)"
   ]
  }
 ],
 "metadata": {
  "kernelspec": {
   "display_name": "Python 3 (ipykernel)",
   "language": "python",
   "name": "python3"
  },
  "language_info": {
   "codemirror_mode": {
    "name": "ipython",
    "version": 3
   },
   "file_extension": ".py",
   "mimetype": "text/x-python",
   "name": "python",
   "nbconvert_exporter": "python",
   "pygments_lexer": "ipython3",
   "version": "3.9.12"
  },
  "varInspector": {
   "cols": {
    "lenName": 16,
    "lenType": 16,
    "lenVar": 40
   },
   "kernels_config": {
    "python": {
     "delete_cmd_postfix": "",
     "delete_cmd_prefix": "del ",
     "library": "var_list.py",
     "varRefreshCmd": "print(var_dic_list())"
    },
    "r": {
     "delete_cmd_postfix": ") ",
     "delete_cmd_prefix": "rm(",
     "library": "var_list.r",
     "varRefreshCmd": "cat(var_dic_list()) "
    }
   },
   "types_to_exclude": [
    "module",
    "function",
    "builtin_function_or_method",
    "instance",
    "_Feature"
   ],
   "window_display": false
  }
 },
 "nbformat": 4,
 "nbformat_minor": 5
}
